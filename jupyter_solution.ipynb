{
 "cells": [
  {
   "cell_type": "markdown",
   "metadata": {},
   "source": [
    "# Задача МГУ"
   ]
  },
  {
   "cell_type": "markdown",
   "metadata": {},
   "source": [
    "Для начала работы, необходимо импортировать все зависимости и библиотеки"
   ]
  },
  {
   "cell_type": "code",
   "execution_count": null,
   "metadata": {},
   "outputs": [],
   "source": [
    "import pandas as pd\n",
    "import matplotlib.pyplot as plt\n",
    "import numpy as np\n",
    "from sklearn.cluster import KMeans"
   ]
  },
  {
   "cell_type": "markdown",
   "metadata": {},
   "source": [
    "Создадим несколько функций для упрощения дальнейшей работы"
   ]
  },
  {
   "cell_type": "code",
   "execution_count": null,
   "metadata": {},
   "outputs": [],
   "source": [
    "# function for debug\n",
    "def printer(arg):\n",
    "    with pd.option_context('display.max_columns', None):\n",
    "        print(arg)\n",
    "\n",
    "\n",
    "# function for changing True and False to 1 and 0\n",
    "def replace_true_with_one(val):\n",
    "    if val == True:\n",
    "        return 1\n",
    "    else:\n",
    "        return 0\n",
    "\n",
    "\n",
    "# function to get values between 0 and 1\n",
    "def normalization(col):\n",
    "    df[col] = df[col].apply(lambda lam: (lam - df[col].min()) / (df[col].max() - df[col].min()))\n",
    "    return df[col]"
   ]
  },
  {
   "cell_type": "markdown",
   "metadata": {},
   "source": [
    "Считываем данные"
   ]
  },
  {
   "cell_type": "code",
   "execution_count": null,
   "metadata": {},
   "outputs": [],
   "source": [
    "df = pd.read_csv('data.csv')"
   ]
  },
  {
   "cell_type": "markdown",
   "metadata": {},
   "source": [
    "Обработаем данные, заменяя единицами значения true и нулями значения false. Затем отбрасываем данные, которые не пригодятся."
   ]
  },
  {
   "cell_type": "code",
   "execution_count": null,
   "metadata": {},
   "outputs": [],
   "source": [
    "#change true and false with ones and zeros\n",
    "df['shop_centre'] = df['shop_centre'].apply(replace_true_with_one, 1)\n",
    "df['dns'] = df['dns'].apply(replace_true_with_one, 1)\n",
    "df['is_center'] = df['is_center'].apply(replace_true_with_one, 1)\n",
    "df['is_moscow'] = df['is_moscow'].apply(replace_true_with_one, 1)\n",
    "#drop columns and none unique id\n",
    "values_check = df.isnull().sum().sort_values(ascending=False).head()\n",
    "df = df.drop(df['post_id'].nunique())\n",
    "df = df.drop(columns=['lat', 'lon'])"
   ]
  },
  {
   "cell_type": "markdown",
   "metadata": {},
   "source": [
    "Используя функцию нормализации данных (приведение к интервалу), обработаем столбцы таблицы"
   ]
  },
  {
   "cell_type": "code",
   "execution_count": null,
   "metadata": {},
   "outputs": [],
   "source": [
    "# normalization of data\n",
    "normalization(col='price')\n",
    "normalization(col='parking_min_distance')\n",
    "normalization(col='distance_100')\n",
    "normalization(col='distance_500')\n",
    "normalization(col='metro_min_distance')\n",
    "normalization(col='transport_min_distance')"
   ]
  },
  {
   "cell_type": "markdown",
   "metadata": {},
   "source": [
    "Запустите эту часть кода для просмотра фигуры корреляции."
   ]
  },
  {
   "cell_type": "code",
   "execution_count": null,
   "metadata": {},
   "outputs": [],
   "source": [
    "plt.figure(figsize=(16, 16))\n",
    "plt.matshow(df.corr(), cmap='summer', fignum=1)\n",
    "plt.colorbar()\n",
    "plt.xticks(list(range(len(df.columns))), df.columns, rotation='vertical')\n",
    "plt.yticks(list(range(len(df.columns))), df.columns, rotation='horizontal')\n",
    "plt.show()"
   ]
  },
  {
   "cell_type": "markdown",
   "metadata": {},
   "source": [
    "Проверка наибольших корреляций между значениями. В результате проверке, было обнаружено, что наиболее зависимые друг от друга величины - distance_500, distance_100, finance_count, price."
   ]
  },
  {
   "cell_type": "code",
   "execution_count": null,
   "metadata": {},
   "outputs": [],
   "source": [
    "correlation_price = df.corr()['price'].sort_values(ascending=False)\n",
    "correlation_distance_500_count = df.corr()['distance_500'].sort_values(ascending=False)\n",
    "correlation_distance_100_count = df.corr()['distance_100'].sort_values(ascending=False)"
   ]
  },
  {
   "cell_type": "markdown",
   "metadata": {},
   "source": [
    "Создадим базу данных, дочернюю от исходной, которая включает только наиболее коррелируемые величины."
   ]
  },
  {
   "cell_type": "code",
   "execution_count": null,
   "metadata": {},
   "outputs": [],
   "source": [
    "# create sub df for further steps\n",
    "df_temp = df[['id', 'distance_500', 'distance_100', 'price']]\n",
    "df_temp = df_temp.sort_values('distance_500')\n",
    "df_temp = df_temp[df_temp['price'].notna()]"
   ]
  },
  {
   "cell_type": "markdown",
   "metadata": {},
   "source": [
    "Создадим кластеризацию модели. Во время выполнения этой части задания, было эмпирическим путем установлено, что наиболее подходящее число кластеров - 3"
   ]
  },
  {
   "cell_type": "code",
   "execution_count": null,
   "metadata": {},
   "outputs": [],
   "source": [
    "X = df_temp.values[:, 1:]\n",
    "X = np.nan_to_num(X)\n",
    "k_means = KMeans(init=\"k-means++\", n_clusters=3, n_init=12)\n",
    "k_means.fit(X)\n",
    "labels = k_means.labels_"
   ]
  },
  {
   "cell_type": "markdown",
   "metadata": {},
   "source": [
    "Распечатаем кластеризированную модель"
   ]
  },
  {
   "cell_type": "code",
   "execution_count": null,
   "metadata": {},
   "outputs": [],
   "source": [
    "# plot the clustering model\n",
    "df_temp['cluster'] = labels\n",
    "area = np.pi * (X[:, 1]) ** 2\n",
    "plt.scatter(X[:, 0], X[:, 2], s=area, c=labels.astype(np.float), alpha=0.5)\n",
    "plt.xlabel('price', fontsize=14)\n",
    "plt.ylabel('distance_500', fontsize=14)\n",
    "plt.show("
   ]
  },
  {
   "cell_type": "markdown",
   "metadata": {},
   "source": [
    "Из данного изображения видно, что существуют отделения банка, в которых значения price высокое относительно значения distance_500. Поэтому было принято решение ввести коэффициент, отражающий отношение price/distance_500. Учитывая, что данные нормализованы, - чем ниже значение distance_500, тем выше значение коэффициента. После вычисления коэффициента для каждой строки. Находится медиана коэффициента. Отделения банка, попавшие в значение коэффициента выше медианы - не выгодные. ниже - выгодные. Однако, необходимо также обратить внимание на конкуренцию, возможно рядом нет никаких организаций, кроме почта банка. В таком случае, нужно оставить отделение банка. Поэтому вводится ещё один коэффициент - медиана количества финансовых организаций в ближайшем окружении. "
   ]
  },
  {
   "cell_type": "code",
   "execution_count": null,
   "metadata": {},
   "outputs": [],
   "source": [
    "# hand-made coefficient= price/distance_500, which reflects income and outcome. Also shows the anomalies\n",
    "df_temp['price_by_distance'] = df_temp['price'] / df_temp['distance_500']\n",
    "median_of_pbd = df_temp['price_by_distance'].median()\n",
    "median_of_finance_count = df['finance_count'].median()"
   ]
  },
  {
   "cell_type": "markdown",
   "metadata": {},
   "source": [
    "При этом, если конкуренция низкая, но и проходимость низкая - нужно провести дополнительный анализ (значение=0,5). Если конкуренция высокая, проходимость низкая - необходимо закрыть отделение (значение=0). Если конкуренция высокая, проходимость высокая - оставить (значение=1). Если конкуренция низкая, проходимость высокая - оставить отделение (значение=1). где значение - hint в таблице."
   ]
  },
  {
   "cell_type": "code",
   "execution_count": null,
   "metadata": {},
   "outputs": [],
   "source": [
    "for index, row in df_temp.iterrows():\n",
    "    if (df_temp.loc[index, 'price_by_distance'] > median_of_pbd and \\\n",
    "            df.loc[index, 'finance_count'] > median_of_finance_count):\n",
    "        df_temp.loc[index, 'hint'] = 0\n",
    "    elif (df_temp.loc[index, 'price_by_distance'] > median_of_pbd and\\\n",
    "            df.loc[index, 'finance_count']) < median_of_finance_count:\n",
    "        df_temp.loc[index, 'hint'] = 0.5\n",
    "    else:\n",
    "        df_temp.loc[index, 'hint'] = 1"
   ]
  },
  {
   "cell_type": "markdown",
   "metadata": {},
   "source": [
    "Сохранение полученной таблице в excel, если необходимо"
   ]
  },
  {
   "cell_type": "code",
   "execution_count": null,
   "metadata": {},
   "outputs": [],
   "source": [
    "#  save the result in excel if needed\n",
    "def saver(frame, save=False, path='output.xls'):\n",
    "    if save:\n",
    "        frame.to_excel(path=path)"
   ]
  },
  {
   "cell_type": "markdown",
   "metadata": {},
   "source": [
    "по вызову функции, необходимо передать dataframe для сохранения. "
   ]
  }
 ],
 "metadata": {
  "kernelspec": {
   "display_name": "Python 3",
   "language": "python",
   "name": "python3"
  },
  "language_info": {
   "codemirror_mode": {
    "name": "ipython",
    "version": 3
   },
   "file_extension": ".py",
   "mimetype": "text/x-python",
   "name": "python",
   "nbconvert_exporter": "python",
   "pygments_lexer": "ipython3",
   "version": "3.7.2"
  }
 },
 "nbformat": 4,
 "nbformat_minor": 1
}
